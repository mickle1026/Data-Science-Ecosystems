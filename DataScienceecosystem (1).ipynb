{
 "cells": [
  {
   "cell_type": "markdown",
   "id": "ca9784b8-6bc1-49a3-ade2-ee7f8011b764",
   "metadata": {},
   "source": [
    "<h1>Data Science Tools and Ecosystem<h1>\n"
   ]
  },
  {
   "cell_type": "markdown",
   "id": "8d4bb46c-6058-4f43-aea6-ca6d669f7812",
   "metadata": {},
   "source": [
    "In this notebook, Data Science Tools and Ecosystem are summarized."
   ]
  },
  {
   "cell_type": "markdown",
   "id": "4780783b-a3b6-460f-9e22-c78c0938b2ae",
   "metadata": {},
   "source": [
    "**Objectives:**\n",
    "* List of Programming Languages\n",
    "* List of Common Libraries\n",
    "* Table of Data Science Tools"
   ]
  },
  {
   "cell_type": "markdown",
   "id": "ff34b339-8b9a-4eaf-81f6-d115f5d49863",
   "metadata": {},
   "source": [
    "Some of the popular languages that Data Scientists use are:\n",
    "1. Python\n",
    "2. R\n",
    "3. SQL\n",
    "4. Julia\n",
    "5. Java\n",
    "6. Scala\n",
    "7. Javascript\n"
   ]
  },
  {
   "cell_type": "markdown",
   "id": "671b9450-e39b-40b0-baa2-892dbf9e49ac",
   "metadata": {},
   "source": [
    "Some of the commonly used libraries used by Data Scientists include:\n",
    "1. TensorFlow\n",
    "2. NumPy\n",
    "3. SciPy\n",
    "4. Pandas\n",
    "5. PyTorch"
   ]
  },
  {
   "cell_type": "markdown",
   "id": "5f2f567f-89ca-4ef7-88c0-e7eeda7bd0a0",
   "metadata": {
    "tags": []
   },
   "source": [
    "|Data Science Tools|\n",
    "|:------:|\n",
    "|GitHub|\n",
    "|Jupyter Lab|\n",
    "|Jupyter Notebook|\n",
    "|Google Colab|"
   ]
  },
  {
   "cell_type": "markdown",
   "id": "4f9849c0-7e6f-4c8d-a86c-2eeefe1cf4ca",
   "metadata": {},
   "source": [
    "### Below are a few examples of evaluating arithmetic expressions in Python\n"
   ]
  },
  {
   "cell_type": "raw",
   "id": "8622d7ca-353f-44b4-93e2-321fe93ca77f",
   "metadata": {},
   "source": [
    "This a simple arithmetic expression to mutiply then add integers"
   ]
  },
  {
   "cell_type": "code",
   "execution_count": 1,
   "id": "54f41f5c-aa88-4a48-9428-e0422efb6150",
   "metadata": {
    "tags": []
   },
   "outputs": [
    {
     "data": {
      "text/plain": [
       "17"
      ]
     },
     "execution_count": 1,
     "metadata": {},
     "output_type": "execute_result"
    }
   ],
   "source": [
    "(3*4)+5"
   ]
  },
  {
   "cell_type": "raw",
   "id": "eb17e12d-15dc-4b5b-8142-af5a2ed4f2f3",
   "metadata": {},
   "source": [
    " This will convert 200 minutes to hours by diving by 60"
   ]
  },
  {
   "cell_type": "code",
   "execution_count": 2,
   "id": "1db373d8-bf46-4085-96ec-354d2491709e",
   "metadata": {
    "tags": []
   },
   "outputs": [
    {
     "data": {
      "text/plain": [
       "3.3333333333333335"
      ]
     },
     "execution_count": 2,
     "metadata": {},
     "output_type": "execute_result"
    }
   ],
   "source": [
    "(200/60)"
   ]
  },
  {
   "cell_type": "markdown",
   "id": "5dab78db-8e87-4964-9865-2e5001a4e8b5",
   "metadata": {},
   "source": [
    "## Author\n",
    "Michael Michaelides"
   ]
  },
  {
   "cell_type": "code",
   "execution_count": null,
   "id": "3a8a5871-7d89-4da0-bc67-1dfc0422cc32",
   "metadata": {},
   "outputs": [],
   "source": []
  }
 ],
 "metadata": {
  "kernelspec": {
   "display_name": "Python 3 (ipykernel)",
   "language": "python",
   "name": "python3"
  },
  "language_info": {
   "codemirror_mode": {
    "name": "ipython",
    "version": 3
   },
   "file_extension": ".py",
   "mimetype": "text/x-python",
   "name": "python",
   "nbconvert_exporter": "python",
   "pygments_lexer": "ipython3",
   "version": "3.11.4"
  }
 },
 "nbformat": 4,
 "nbformat_minor": 5
}
